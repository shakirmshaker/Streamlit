{
 "cells": [
  {
   "cell_type": "code",
   "execution_count": 97,
   "metadata": {},
   "outputs": [],
   "source": [
    "# Data\n",
    "import pandas as pd\n",
    "import numpy as np\n",
    "\n",
    "# Preprocessing\n",
    "from sklearn.preprocessing import StandardScaler\n",
    "\n",
    "# Model_selection\n",
    "from sklearn.model_selection import train_test_split\n",
    "\n",
    "# Machine learning\n",
    "from sklearn.ensemble import RandomForestRegressor\n",
    "\n",
    "import pickle"
   ]
  },
  {
   "cell_type": "code",
   "execution_count": 296,
   "metadata": {},
   "outputs": [
    {
     "data": {
      "text/plain": [
       "923.2397719107114"
      ]
     },
     "execution_count": 296,
     "metadata": {},
     "output_type": "execute_result"
    }
   ],
   "source": [
    "df = pd.read_csv('FinalData.csv') \n",
    "\n",
    "df.drop(['Degrees_C', 'Wind_Speed'], axis = 1, inplace = True)\n",
    "\n",
    "df = pd.get_dummies(df, columns = ['date_month', 'date_day', 'date_dayofweek', 'date_hour'])\n",
    "\n",
    "X = df.drop('TotalCount', axis = 1)\n",
    "y = df['TotalCount']\n",
    "\n",
    "df.head()\n",
    "\n",
    "df['TotalCount'].mean()"
   ]
  },
  {
   "cell_type": "code",
   "execution_count": 287,
   "metadata": {},
   "outputs": [
    {
     "data": {
      "text/plain": [
       "RandomForestRegressor(max_depth=20)"
      ]
     },
     "execution_count": 287,
     "metadata": {},
     "output_type": "execute_result"
    }
   ],
   "source": [
    "X_train, X_test, y_train, y_test = train_test_split(X, y, test_size=0.2, random_state=340)\n",
    "\n",
    "model = RandomForestRegressor(max_depth = 20)\n",
    "\n",
    "model.fit(X_train, y_train)"
   ]
  },
  {
   "cell_type": "code",
   "execution_count": 288,
   "metadata": {},
   "outputs": [
    {
     "data": {
      "text/plain": [
       "array([4944.9])"
      ]
     },
     "execution_count": 288,
     "metadata": {},
     "output_type": "execute_result"
    }
   ],
   "source": [
    "# print(model.score(X_test, y_test))\n",
    "\n",
    "model.predict([[0, 0, 0, 0, 0, 0, 0, 0, 0, 0, 1, 0, 0, 0, 0, 0, 0, 0, 0, 0, 0, 0, 0, 0, 0, 0, 0, 0, 0, 1, 0, 0, 0, 0, 0, 0, 0, 0, 0, 0, 0, 0, 0, 0, 0, 0, 0, 0, 1, 0, 0, 0, 0, 0, 0, 0, 0, 0, 0, 0, 0, 0, 0, 1, 0, 0, 0, 0, 0, 0, 0, 0, 0, 0]])"
   ]
  },
  {
   "cell_type": "code",
   "execution_count": 298,
   "metadata": {},
   "outputs": [
    {
     "name": "stdout",
     "output_type": "stream",
     "text": [
      "[147.93416203]\n"
     ]
    }
   ],
   "source": [
    "import numpy as np \n",
    "import pandas as pd \n",
    "import joblib\n",
    "import pickle\n",
    "import matplotlib.pyplot as plt\n",
    "from matplotlib.ticker import StrMethodFormatter\n",
    "import streamlit as st\n",
    "from PIL import Image\n",
    "from datetime import date\n",
    "\n",
    "\n",
    "# Load  model a \n",
    "model = pickle.load(open('model.pkl', 'rb'))\n",
    "\n",
    "def data_preprocessor(df):\n",
    "    \"\"\"this function preprocess the user input\n",
    "        return type: pandas dataframe\n",
    "    \"\"\"\n",
    "    \n",
    "    int_features = user_input_df.values[0]\n",
    "\n",
    "    int_features[0] = int_features[0] - 1\n",
    "    \n",
    "    int_features[1] = int_features[1] - 1\n",
    "\n",
    "    dummy_features = []\n",
    "\n",
    "    month = list(range(12))\n",
    "    day_of_month = list(range(31))\n",
    "    hour = list(range(24))\n",
    "    day_of_week = list(range(7))\n",
    "\n",
    "    # Get dummy data\n",
    "    dummy_month = pd.get_dummies(month)\n",
    "    dummy_day_of_month = pd.get_dummies(day_of_month)\n",
    "    dummy_hour = pd.get_dummies(hour)\n",
    "    dummy_day_of_week = pd.get_dummies(day_of_week)\n",
    "\n",
    "    # Print dummy data for input\n",
    "    dummy_features.extend(dummy_month[int_features[0]])\n",
    "    dummy_features.extend(dummy_day_of_month[int_features[1]])\n",
    "    dummy_features.extend(dummy_day_of_week[int_features[2]])\n",
    "    dummy_features.extend(dummy_hour[int_features[3]])\n",
    "\n",
    "    # # final array\n",
    "    final = np.array(dummy_features)\n",
    "\n",
    "    return final\n",
    "\n",
    "\n",
    "def get_user_input():\n",
    "    \"\"\"\n",
    "    this function is used to get user input using sidebar slider and selectbox \n",
    "    return type : pandas dataframe\n",
    "    \"\"\"\n",
    "    \n",
    "    city = st.sidebar.selectbox(\"Select city \", (\"York City\", ))\n",
    "    \n",
    "    date_input = st.sidebar.date_input('Date input', min_value = date.today())\n",
    "    \n",
    "    time_input = st.sidebar.slider('Time input', 0, 23, 1)\n",
    "    \n",
    "    input_month = date_input.month\n",
    "    input_date_of_month = date_input.day\n",
    "    input_day_of_week = date_input.weekday()\n",
    "    input_hour = time_input\n",
    "    \n",
    "    features = {'month': input_month,\n",
    "            'date_of_month': input_date_of_month,\n",
    "            'day_of_week': input_day_of_week,\n",
    "            'hour': input_hour}\n",
    "    \n",
    "    data = pd.DataFrame(features, index=[0])\n",
    "\n",
    "    return data\n",
    "\n",
    "user_input_df = get_user_input()\n",
    "processed_user_input = data_preprocessor(user_input_df)\n",
    "\n",
    "prediction = model.predict([processed_user_input])\n",
    "\n",
    "#####################################################################################\n",
    "# Frontend\n",
    "\n",
    "st.title('Welcome to Foreseer')\n",
    "\n",
    "st.header('Live prediction ' )\n",
    "\n",
    "above_text = 'That is above the average 923 in York City'\n",
    "below_text = 'That is below the average 923 in York City'\n",
    "\n",
    "if prediction > 923:\n",
    "    st.subheader('There will be ' + str(int(prediction))  + ' people in York City given your input data!')\n",
    "    st.subheader(above_text)            \n",
    "else:\n",
    "    st.subheader('There will be ' + str(int(prediction))  + ' people in York City given your input data!')\n",
    "    st.subheader(below_text) \n",
    "\n",
    "image = Image.open('YorkCity.jpg')\n",
    "st.image(image, caption = 'York City', use_column_width = True)\n",
    "\n",
    "print(prediction)"
   ]
  },
  {
   "cell_type": "code",
   "execution_count": null,
   "metadata": {},
   "outputs": [],
   "source": []
  }
 ],
 "metadata": {
  "kernelspec": {
   "display_name": "Python 3",
   "language": "python",
   "name": "python3"
  },
  "language_info": {
   "codemirror_mode": {
    "name": "ipython",
    "version": 3
   },
   "file_extension": ".py",
   "mimetype": "text/x-python",
   "name": "python",
   "nbconvert_exporter": "python",
   "pygments_lexer": "ipython3",
   "version": "3.8.5"
  }
 },
 "nbformat": 4,
 "nbformat_minor": 4
}
